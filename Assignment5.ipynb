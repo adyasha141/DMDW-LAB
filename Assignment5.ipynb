{
  "nbformat": 4,
  "nbformat_minor": 0,
  "metadata": {
    "colab": {
      "provenance": [],
      "include_colab_link": true
    },
    "kernelspec": {
      "name": "python3",
      "display_name": "Python 3"
    },
    "language_info": {
      "name": "python"
    }
  },
  "cells": [
    {
      "cell_type": "markdown",
      "metadata": {
        "id": "view-in-github",
        "colab_type": "text"
      },
      "source": [
        "<a href=\"https://colab.research.google.com/github/adyasha141/DMDW-LAB/blob/main/Assignment5.ipynb\" target=\"_parent\"><img src=\"https://colab.research.google.com/assets/colab-badge.svg\" alt=\"Open In Colab\"/></a>"
      ]
    },
    {
      "cell_type": "markdown",
      "source": [
        "Normalization (Min-max, z- score, Decimal scaling) techniques"
      ],
      "metadata": {
        "id": "lT0EkfnE33uI"
      }
    },
    {
      "cell_type": "code",
      "execution_count": null,
      "metadata": {
        "id": "7rJ8cQtY15Yw"
      },
      "outputs": [],
      "source": [
        "import pandas as pd"
      ]
    },
    {
      "cell_type": "code",
      "source": [
        "data = pd.read_csv(\"/content/toyota.csv\")"
      ],
      "metadata": {
        "id": "DTrZA8kc3zTP"
      },
      "execution_count": null,
      "outputs": []
    },
    {
      "cell_type": "code",
      "source": [
        "feature_column = 'price'\n",
        "feature_values = data[feature_column]"
      ],
      "metadata": {
        "id": "TAeoVDXr4E2u"
      },
      "execution_count": null,
      "outputs": []
    },
    {
      "cell_type": "code",
      "source": [
        "min_val = feature_values.min()\n",
        "max_val = feature_values.max()\n",
        "min_max_scaled = (feature_values - min_val) / (max_val - min_val)\n"
      ],
      "metadata": {
        "id": "ekek_jF14e55"
      },
      "execution_count": null,
      "outputs": []
    },
    {
      "cell_type": "code",
      "source": [
        "mean_val = feature_values.mean()\n",
        "std_val = feature_values.std()\n",
        "z_score_scaled = (feature_values - mean_val) / std_val"
      ],
      "metadata": {
        "id": "QwmSdTwW4nq1"
      },
      "execution_count": null,
      "outputs": []
    },
    {
      "cell_type": "code",
      "source": [
        "max_abs_val = max(abs(feature_values))\n",
        "decimal_scaled = feature_values / (10 ** len(str(int(max_abs_val))))"
      ],
      "metadata": {
        "id": "XPkqLUu94r2v"
      },
      "execution_count": null,
      "outputs": []
    },
    {
      "cell_type": "code",
      "source": [
        "scaled_data = pd.DataFrame({\n",
        "    'Original': feature_values,\n",
        "    'Min-Max Scaled': min_max_scaled,\n",
        "    'Z-Score Scaled': z_score_scaled,\n",
        "    'Decimal Scaled': decimal_scaled\n",
        "})"
      ],
      "metadata": {
        "id": "WqSMmT4w4vz-"
      },
      "execution_count": null,
      "outputs": []
    },
    {
      "cell_type": "code",
      "source": [
        "print(scaled_data.head())"
      ],
      "metadata": {
        "id": "FfqEM-qb4zSA",
        "outputId": "dfc184ae-7a67-4d28-9112-0d8bf8cbd563",
        "colab": {
          "base_uri": "https://localhost:8080/"
        }
      },
      "execution_count": null,
      "outputs": [
        {
          "output_type": "stream",
          "name": "stdout",
          "text": [
            "   Original  Min-Max Scaled  Z-Score Scaled  Decimal Scaled\n",
            "0     16000        0.256150        0.548085         0.16000\n",
            "1     15995        0.256066        0.547297         0.15995\n",
            "2     13998        0.222301        0.232562         0.13998\n",
            "3     18998        0.306839        1.020582         0.18998\n",
            "4     17498        0.281478        0.784176         0.17498\n"
          ]
        }
      ]
    }
  ]
}