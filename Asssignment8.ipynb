{
  "nbformat": 4,
  "nbformat_minor": 0,
  "metadata": {
    "colab": {
      "provenance": [],
      "include_colab_link": true
    },
    "kernelspec": {
      "name": "python3",
      "display_name": "Python 3"
    },
    "language_info": {
      "name": "python"
    }
  },
  "cells": [
    {
      "cell_type": "markdown",
      "metadata": {
        "id": "view-in-github",
        "colab_type": "text"
      },
      "source": [
        "<a href=\"https://colab.research.google.com/github/adyasha141/DMDW-LAB/blob/main/Asssignment8.ipynb\" target=\"_parent\"><img src=\"https://colab.research.google.com/assets/colab-badge.svg\" alt=\"Open In Colab\"/></a>"
      ]
    },
    {
      "cell_type": "code",
      "source": [
        "import pandas as pd\n",
        "\n",
        "import numpy as np\n",
        "\n",
        "\n",
        "\n",
        "# Define the dataset\n",
        "\n",
        "data = {\n",
        "\n",
        "    'Height': [1.70, 1.90, 1.78, 1.73, 1.81, 1.73, 1.80, 1.75],\n",
        "\n",
        "    'Weight': [65, 85, 76, 74, 75, 70, 71, 69],\n",
        "\n",
        "    'Age': [20, 33, 31, 24, 35, 75, 63, 25],\n",
        "\n",
        "    'Class': ['Programmer', 'Builder', 'Builder', 'Programmer', 'Builder', 'Scientist', 'Scientist', 'Programmer']\n",
        "\n",
        "}\n",
        "\n",
        "\n",
        "\n",
        "df = pd.DataFrame(data)\n",
        "\n",
        "\n",
        "\n",
        "# Define a new data point for which we want to predict the class\n",
        "\n",
        "new_data_point = {\n",
        "\n",
        "    'Height': 1.69,\n",
        "\n",
        "    'Weight': 75,\n",
        "\n",
        "    'Age': 37,\n",
        "\n",
        "}\n",
        "\n",
        "\n",
        "\n",
        "# Define the value of k\n",
        "\n",
        "k = 3  # You can choose any value for k\n",
        "\n",
        "\n",
        "\n",
        "# Calculate Euclidean distances\n",
        "\n",
        "df['Distance'] = np.sqrt(\n",
        "\n",
        "    (df['Height'] - new_data_point['Height'])**2 +\n",
        "\n",
        "    (df['Weight'] - new_data_point['Weight'])**2 +\n",
        "\n",
        "    (df['Age'] - new_data_point['Age'])**2\n",
        "\n",
        ")\n",
        "\n",
        "\n",
        "\n",
        "# Sort the DataFrame by distance\n",
        "\n",
        "df = df.sort_values(by='Distance')\n",
        "\n",
        "\n",
        "\n",
        "# Get the k nearest neighbors\n",
        "\n",
        "k_nearest_neighbors = df.head(k)\n",
        "\n",
        "\n",
        "\n",
        "# Count the class occurrences in the k nearest neighbors\n",
        "\n",
        "class_counts = k_nearest_neighbors['Class'].value_counts()\n",
        "\n",
        "\n",
        "\n",
        "# Get the most common class among the k nearest neighbors\n",
        "\n",
        "predicted_class = class_counts.idxmax()\n",
        "\n",
        "\n",
        "\n",
        "print(f\"Predicted Class: {predicted_class}\")"
      ],
      "metadata": {
        "colab": {
          "base_uri": "https://localhost:8080/"
        },
        "id": "zcxvuduZcrrh",
        "outputId": "1cadb9c3-82d5-47cd-b12d-ae1864127dcd"
      },
      "execution_count": null,
      "outputs": [
        {
          "output_type": "stream",
          "name": "stdout",
          "text": [
            "Predicted Class: Builder\n"
          ]
        }
      ]
    }
  ]
}